{
 "cells": [
  {
   "cell_type": "code",
   "execution_count": null,
   "id": "a388fed8",
   "metadata": {},
   "outputs": [],
   "source": [
    "import numpy as np \n",
    "import pandas as pd \n",
    "import matplotlib.pyplot as plt \n",
    "import seaborn as sns "
   ]
  },
  {
   "cell_type": "code",
   "execution_count": null,
   "id": "c9a0ea04",
   "metadata": {},
   "outputs": [],
   "source": [
    "df = pd.read_csv('Life_Expectancy_Data.csv')\n",
    "df.shape "
   ]
  },
  {
   "cell_type": "code",
   "execution_count": null,
   "id": "430581de",
   "metadata": {},
   "outputs": [],
   "source": [
    "df.dtypes"
   ]
  },
  {
   "cell_type": "code",
   "execution_count": null,
   "id": "fa85ae21",
   "metadata": {},
   "outputs": [],
   "source": [
    "df.dtypes.value_counts()"
   ]
  },
  {
   "cell_type": "code",
   "execution_count": null,
   "id": "13f52da6",
   "metadata": {},
   "outputs": [],
   "source": [
    "df.describe"
   ]
  },
  {
   "cell_type": "code",
   "execution_count": null,
   "id": "a6a79fb0",
   "metadata": {},
   "outputs": [],
   "source": [
    "df.columns"
   ]
  },
  {
   "cell_type": "code",
   "execution_count": null,
   "id": "d87f93ec",
   "metadata": {},
   "outputs": [],
   "source": [
    "for column in df.columns:\n",
    "    df.rename(columns={column: column.strip()}, inplace=True)\n",
    "\n",
    "df.columns"
   ]
  },
  {
   "cell_type": "code",
   "execution_count": null,
   "id": "8a5feb86",
   "metadata": {},
   "outputs": [],
   "source": [
    "df.head(20)"
   ]
  },
  {
   "cell_type": "code",
   "execution_count": null,
   "id": "120d4cdf",
   "metadata": {},
   "outputs": [],
   "source": [
    "df.isnull().sum()"
   ]
  },
  {
   "cell_type": "code",
   "execution_count": null,
   "id": "c3ce1c9d",
   "metadata": {},
   "outputs": [],
   "source": [
    "null_percentage = (df.isnull().sum() / len(df))*100\n",
    "print(null_percentage)"
   ]
  },
  {
   "cell_type": "code",
   "execution_count": null,
   "id": "3ad55420",
   "metadata": {},
   "outputs": [],
   "source": [
    "print(df.duplicated())"
   ]
  },
  {
   "cell_type": "code",
   "execution_count": null,
   "id": "a4aec99b",
   "metadata": {},
   "outputs": [],
   "source": [
    "#Find total of duplicated values\n",
    "print(df.duplicated().sum())"
   ]
  },
  {
   "cell_type": "code",
   "execution_count": null,
   "id": "f85cb01b",
   "metadata": {},
   "outputs": [],
   "source": [
    "#Scatter Plot\n",
    "plt.figure(figsize=(8,6))\n",
    "sns.scatterplot(data=df, x='GDP', y='Life expectancy', hue='Status')\n",
    "plt.title('Life Expectancy vs GDP')\n",
    "plt.show()"
   ]
  },
  {
   "cell_type": "code",
   "execution_count": null,
   "id": "122e71cf",
   "metadata": {},
   "outputs": [],
   "source": [
    "#scatterplot\n",
    "plt.figure(figsize=(8,6))\n",
    "sns.scatterplot(data=df, x='Alcohol', y='Life expectancy', hue='Status')\n",
    "plt.title('Life Expectancy vs Alcohol')\n",
    "plt.show()"
   ]
  },
  {
   "cell_type": "code",
   "execution_count": null,
   "id": "196c7306",
   "metadata": {},
   "outputs": [],
   "source": [
    "plt.figure(figsize=(8,6))\n",
    "sns.scatterplot(data=df, x='Hepatitis B', y='Life expectancy', hue='Status')\n",
    "plt.title('Life Expectancy vs Hepatitis B')\n",
    "plt.show()"
   ]
  },
  {
   "cell_type": "code",
   "execution_count": null,
   "id": "6fdeb73a",
   "metadata": {},
   "outputs": [],
   "source": [
    "plt.figure(figsize=(8,6))\n",
    "sns.scatterplot(data=df, x=' HIV/AIDS', y='Life expectancy ', hue='Status')\n",
    "plt.title('Life Expectancy vs HIV/AIDS')\n",
    "plt.show()"
   ]
  },
  {
   "cell_type": "code",
   "execution_count": null,
   "id": "d49646b5",
   "metadata": {},
   "outputs": [],
   "source": [
    "numeric_columns = df.select_dtypes(include = 'number')\n",
    "plt.figure(figsize=(12,10))\n",
    "sns.heatmap(numeric_columns.corr(), annot=True, cmap='coolwarm', fmt=\".2f\")\n",
    "plt.title('Correlation Heatmap of Numeric features')\n",
    "plt.show()"
   ]
  }
 ],
 "metadata": {
  "kernelspec": {
   "display_name": "Python(myenv)",
   "language": "python",
   "name": "myenv"
  },
  "language_info": {
   "codemirror_mode": {
    "name": "ipython",
    "version": 3
   },
   "file_extension": ".py",
   "mimetype": "text/x-python",
   "name": "python",
   "nbconvert_exporter": "python",
   "pygments_lexer": "ipython3",
   "version": "3.11.9"
  }
 },
 "nbformat": 4,
 "nbformat_minor": 5
}
